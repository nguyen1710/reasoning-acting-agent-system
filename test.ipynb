{
 "cells": [
  {
   "cell_type": "code",
   "execution_count": 2,
   "id": "12300ea5",
   "metadata": {},
   "outputs": [],
   "source": [
    "import os\n",
    "import groq"
   ]
  },
  {
   "cell_type": "code",
   "execution_count": 3,
   "id": "8a1fb06c",
   "metadata": {},
   "outputs": [],
   "source": [
    "from Analysist_React_Agent.analyzer import SystemAnalyzer"
   ]
  },
  {
   "cell_type": "code",
   "execution_count": 4,
   "id": "51d7084e",
   "metadata": {},
   "outputs": [],
   "source": [
    "os.environ[\"GROQ_API_KEY\"] = \"api\"\n",
    "os.environ[\"OPENROUTER_API_KEY\"] = \"api\""
   ]
  },
  {
   "cell_type": "markdown",
   "id": "38e56205",
   "metadata": {},
   "source": [
    "# Agent"
   ]
  },
  {
   "cell_type": "code",
   "execution_count": 5,
   "id": "3aa19f0b",
   "metadata": {},
   "outputs": [],
   "source": [
    "class Validator_Agent:\n",
    "    def __init__(self, model):\n",
    "        self.agent = groq.Groq(\n",
    "            api_key=os.environ.get(\"GROQ_API_KEY\"),\n",
    "        )\n",
    "        self.model = model\n",
    "\n",
    "    # Testing với Analysist Agent\n",
    "    # Agent sẽ nhận vào state của graph, trong đó có các actors, functions và relationships đã được tạo bởi Analysist Agent\n",
    "    # Trả về một chuỗi kết quả, trong đó có các actors, functions và relationships bị thiếu hoặc không hợp lệ\n",
    "    def __call__(self, state):\n",
    "        return self.agent.chat.completions.create(\n",
    "            messages=[\n",
    "                {\n",
    "                    \"role\": \"system\",\n",
    "                    \"content\":  \"\"\"\n",
    "                                You are a validator agent. Your task is to validate the list of actors, functions and relationships\n",
    "                                created by the analyst agent with the system spec.\n",
    "                                You will check if any actors, functions or relationship are missing.\n",
    "                                For relationships, will check if it is a valid relationship and if its actor and target are correct.\n",
    "                                Your output should follow this format:\n",
    "                                Missing Actors: [list of missing actors]\n",
    "                                Missing Functions: [list of missing functions] \n",
    "                                Missing Relationships: [list of missing relationships]\n",
    "                                Invalid Relationships: [list of invalid relationships]\n",
    "                                Relationships with wrong actors: [list of relationships with wrong actors]\n",
    "                                Relationships with wrong targets: [list of relationships with wrong targets]\n",
    "                                \"\"\",\n",
    "                },\n",
    "                {\n",
    "                    \"role\": \"user\",\n",
    "                    \"content\": f\"\"\"\n",
    "                                System Specification: {state[\"specification\"]}\n",
    "                                Actors: {state[\"actors\"]}\n",
    "                                Functions: {state[\"functions\"]}\n",
    "                                Relationships: {state[\"relationships\"]}\n",
    "                                \"\"\",\n",
    "                }\n",
    "            ],\n",
    "            model=self.model,\n",
    "        ).choices[0].message.content"
   ]
  },
  {
   "cell_type": "markdown",
   "id": "f4e5fcb4",
   "metadata": {},
   "source": [
    "# Langgraph"
   ]
  },
  {
   "cell_type": "code",
   "execution_count": 6,
   "id": "3efd5a58",
   "metadata": {},
   "outputs": [],
   "source": [
    "from typing_extensions import TypedDict\n",
    "\n",
    "# State của graph, đóng vai trò là một csdl tạm thời, chứa ngữ cảnh của graph, các agent có thể truy cập và sửa đổi\n",
    "class State(TypedDict):\n",
    "    specification: str\n",
    "    actors: list[str]\n",
    "    functions: list[str]\n",
    "    relationship: list[str]"
   ]
  },
  {
   "cell_type": "code",
   "execution_count": 7,
   "id": "aab1e136",
   "metadata": {},
   "outputs": [],
   "source": [
    "model = \"llama-3.3-70b-versatile\"\n",
    "analyzer = SystemAnalyzer()\n",
    "validator = Validator_Agent(model)"
   ]
  },
  {
   "cell_type": "code",
   "execution_count": 8,
   "id": "4112b98e",
   "metadata": {},
   "outputs": [
    {
     "data": {
      "text/plain": [
       "<langgraph.graph.state.StateGraph at 0x278adba8490>"
      ]
     },
     "execution_count": 8,
     "metadata": {},
     "output_type": "execute_result"
    }
   ],
   "source": [
    "from langgraph.graph import StateGraph, START, END\n",
    "\n",
    "# Xây dựng graph\n",
    "graph_builder = StateGraph(State)\n",
    "\n",
    "# Thêm các node vào graph\n",
    "graph_builder.add_node(\"analysist_agent\", lambda state: analyzer.analyze(state))\n",
    "graph_builder.add_node(\"validator_agent\", lambda state: validator(state))\n",
    "\n",
    "# Kết nối các node trong graph\n",
    "graph_builder.add_edge(START, \"analysist_agent\")\n",
    "graph_builder.add_edge(\"analysist_agent\", \"validator_agent\")\n",
    "graph_builder.add_edge(\"validator_agent\", END)"
   ]
  },
  {
   "cell_type": "code",
   "execution_count": 9,
   "id": "9cf69c72",
   "metadata": {},
   "outputs": [],
   "source": [
    "graph = graph_builder.compile()"
   ]
  },
  {
   "cell_type": "code",
   "execution_count": 10,
   "id": "d411b8df",
   "metadata": {},
   "outputs": [
    {
     "data": {
      "image/png": "[encoded data removed]",
      "text/plain": [
       "<IPython.core.display.Image object>"
      ]
     },
     "metadata": {},
     "output_type": "display_data"
    }
   ],
   "source": [
    "from IPython.display import Image, display\n",
    "\n",
    "try:\n",
    "    display(Image(graph.get_graph().draw_mermaid_png()))\n",
    "except Exception:\n",
    "    pass"
   ]
  },
  {
   "cell_type": "code",
   "execution_count": 11,
   "id": "7d4c2fa6",
   "metadata": {},
   "outputs": [],
   "source": [
    "spec = \"\"\"\n",
    "Users can register accounts, log in, and edit personal information.\n",
    "Administrators can approve new users, block offending accounts.\n",
    "Both can create posts, comment, and rate other posts.\n",
    "\"\"\""
   ]
  },
  {
   "cell_type": "code",
   "execution_count": 12,
   "id": "17aaa0d1",
   "metadata": {},
   "outputs": [],
   "source": [
    "# result = graph.invoke({\"specification\": spec})\n",
    "# for stage in result:\n",
    "#     print(result[stage])"
   ]
  }
 ],
 "metadata": {
  "kernelspec": {
   "display_name": "Python 3",
   "language": "python",
   "name": "python3"
  },
  "language_info": {
   "codemirror_mode": {
    "name": "ipython",
    "version": 3
   },
   "file_extension": ".py",
   "mimetype": "text/x-python",
   "name": "python",
   "nbconvert_exporter": "python",
   "pygments_lexer": "ipython3",
   "version": "3.11.0"
  }
 },
 "nbformat": 4,
 "nbformat_minor": 5
}
